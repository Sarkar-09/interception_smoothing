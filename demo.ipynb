{
 "cells": [
  {
   "cell_type": "markdown",
   "id": "050a8ab2",
   "metadata": {},
   "source": [
    "# Preamble"
   ]
  },
  {
   "cell_type": "code",
   "execution_count": null,
   "id": "c1b35172",
   "metadata": {},
   "outputs": [],
   "source": [
    "import torch\n",
    "import numpy as np\n",
    "import seaborn as sns\n",
    "import scipy.sparse as sp\n",
    "import matplotlib.pyplot as plt\n",
    "import matplotlib.ticker as ticker\n",
    "from torch_geometric.data import Data\n",
    "import torch_geometric.transforms as T\n",
    "\n",
    "from interception_smoothing.datasets import load_dataset\n",
    "from interception_smoothing.models import AblationGAT\n",
    "from interception_smoothing.training import training_inductive\n",
    "from interception_smoothing.prediction import smoothed_gnn\n",
    "from interception_smoothing.utils import compute_certificates"
   ]
  },
  {
   "cell_type": "markdown",
   "id": "3d144986",
   "metadata": {},
   "source": [
    "# Model"
   ]
  },
  {
   "cell_type": "code",
   "execution_count": null,
   "id": "87a12325",
   "metadata": {},
   "outputs": [],
   "source": [
    "hparams = {\n",
    "    \"device\": \"cuda\",\n",
    "\n",
    "    \"dataset\": \"cora_ml\",\n",
    "\n",
    "    \"p_train_nodes\": 0.7,\n",
    "    \"p_train_edges\": 0.1,\n",
    "\n",
    "    \"p_eval_nodes\": 0.794,  # p_a in the paper (feature ablation probability)\n",
    "    \"p_eval_edges\": 0.361449,  # p_d in the paper (edge deletion probability)\n",
    "\n",
    "    'n0': 1_000,\n",
    "    'n1': 3_000,\n",
    "\n",
    "    'lr': 0.001,\n",
    "    'weight_decay': 5e-4,\n",
    "    \"max_epochs\": 1_000,\n",
    "    \"logging\": True,\n",
    "    \"k_heads\": 8,\n",
    "    \"hidden_channels\": 8,\n",
    "    \"p_dropout_skip\": 0.9,\n",
    "    \"p_dropout\": 0.5,\n",
    "    \"with_skip\": True,\n",
    "    \"alpha\": 0.01,\n",
    "    \"early_stopping\": 50,\n",
    "}"
   ]
  },
  {
   "cell_type": "code",
   "execution_count": null,
   "id": "772ea220",
   "metadata": {},
   "outputs": [],
   "source": [
    "dataset = load_dataset(hparams[\"dataset\"])\n",
    "[A, X, y, n, d, nc, train, valid, test, idx_train, idx_valid, idx_test] = dataset"
   ]
  },
  {
   "cell_type": "code",
   "execution_count": null,
   "id": "58a9f6d5",
   "metadata": {},
   "outputs": [],
   "source": [
    "hparams[\"in_channels\"] = d\n",
    "hparams[\"out_channels\"] = nc"
   ]
  },
  {
   "cell_type": "code",
   "execution_count": null,
   "id": "6bd62fde",
   "metadata": {},
   "outputs": [],
   "source": [
    "edge_idx = torch.tensor(np.array(train[0].nonzero()), dtype=torch.long)\n",
    "x = torch.tensor(train[1])\n",
    "y = torch.LongTensor(train[2])\n",
    "data_train = Data(A=train[0], x=x, edge_index=edge_idx, y=y)\n",
    "\n",
    "edge_idx = torch.tensor(np.array(valid[0].nonzero()), dtype=torch.long)\n",
    "x = torch.tensor(valid[1])\n",
    "y = torch.LongTensor(valid[2])\n",
    "data_valid = Data(A=valid[0], x=x, edge_index=edge_idx, y=y)\n",
    "\n",
    "edge_idx = torch.tensor(np.array(test[0].nonzero()), dtype=torch.long)\n",
    "x = torch.tensor(test[1])\n",
    "y = torch.LongTensor(test[2])\n",
    "data_test = Data(A=test[0], x=x, edge_index=edge_idx, y=y)\n",
    "\n",
    "for data in [data_train, data_valid, data_test]:\n",
    "    data.to(hparams['device'])"
   ]
  },
  {
   "cell_type": "code",
   "execution_count": null,
   "id": "1f3332b0",
   "metadata": {},
   "outputs": [
    {
     "data": {
      "text/plain": [
       "AblationGAT(\n",
       "  (conv1): GATConv(2879, 8, heads=8)\n",
       "  (conv2): GATConv(64, 7, heads=1)\n",
       "  (ablate): AblationLayer()\n",
       ")"
      ]
     },
     "execution_count": 6,
     "metadata": {},
     "output_type": "execute_result"
    }
   ],
   "source": [
    "# for training:\n",
    "# model = AblationGAT(hparams).to(hparams['device'])\n",
    "# args = model, data_train, data_valid, idx_train, idx_valid, hparams\n",
    "# model = training_inductive(*args)\n",
    "\n",
    "# load pretrained model (GAT on cora_ml)\n",
    "model = torch.load(\"data/pretrained_models/pretrained_GAT_cora_ml.pt\")\n",
    "model.to(hparams['device'])"
   ]
  },
  {
   "cell_type": "code",
   "execution_count": null,
   "id": "3fc4d27d",
   "metadata": {},
   "outputs": [
    {
     "data": {
      "application/vnd.jupyter.widget-view+json": {
       "model_id": "c6f6e0868c7c498d8f843c5663e2f00b",
       "version_major": 2,
       "version_minor": 0
      },
      "text/plain": [
       "  0%|          | 0/1000 [00:00<?, ?it/s]"
      ]
     },
     "metadata": {},
     "output_type": "display_data"
    },
    {
     "data": {
      "application/vnd.jupyter.widget-view+json": {
       "model_id": "03f18ccc44624de5b9e56b6431d55484",
       "version_major": 2,
       "version_minor": 0
      },
      "text/plain": [
       "  0%|          | 0/3000 [00:00<?, ?it/s]"
      ]
     },
     "metadata": {},
     "output_type": "display_data"
    }
   ],
   "source": [
    "pre_votes = smoothed_gnn(model, data_test, nc, hparams[\"n0\"])\n",
    "votes = smoothed_gnn(model, data_test, nc, hparams[\"n1\"])"
   ]
  },
  {
   "cell_type": "markdown",
   "id": "5e898d2a",
   "metadata": {},
   "source": [
    "# Certificate"
   ]
  },
  {
   "cell_type": "code",
   "execution_count": null,
   "id": "2771e065",
   "metadata": {},
   "outputs": [
    {
     "data": {
      "application/vnd.jupyter.widget-view+json": {
       "model_id": "6e6a77ec859e40de9cd4dce847d87ef9",
       "version_major": 2,
       "version_minor": 0
      },
      "text/plain": [
       "  0%|          | 0/2810 [00:00<?, ?it/s]"
      ]
     },
     "metadata": {},
     "output_type": "display_data"
    },
    {
     "data": {
      "application/vnd.jupyter.widget-view+json": {
       "model_id": "32709b25327944bda813c45c5ae50dfd",
       "version_major": 2,
       "version_minor": 0
      },
      "text/plain": [
       "  0%|          | 0/2810 [00:00<?, ?it/s]"
      ]
     },
     "metadata": {},
     "output_type": "display_data"
    }
   ],
   "source": [
    "certificates = {}\n",
    "\n",
    "for distance in [1, 2]:\n",
    "    certificates[distance] = compute_certificates(model, None, None,\n",
    "                                                  pre_votes, votes,\n",
    "                                                  data_test, n, nc,\n",
    "                                                  idx_test, hparams,\n",
    "                                                  distance)"
   ]
  },
  {
   "cell_type": "code",
   "execution_count": null,
   "id": "54bbd4c9",
   "metadata": {},
   "outputs": [
    {
     "data": {
      "text/plain": [
       "0.81"
      ]
     },
     "execution_count": 9,
     "metadata": {},
     "output_type": "execute_result"
    }
   ],
   "source": [
    "round(certificates[1]['clean_acc'], 2)"
   ]
  },
  {
   "cell_type": "code",
   "execution_count": null,
   "id": "e781b6c3",
   "metadata": {},
   "outputs": [
    {
     "data": {
      "text/plain": [
       "0.03"
      ]
     },
     "execution_count": 10,
     "metadata": {},
     "output_type": "execute_result"
    }
   ],
   "source": [
    "round(certificates[1]['abstain_ratio'],2)  # ratio of abstained predictions"
   ]
  },
  {
   "cell_type": "code",
   "execution_count": null,
   "id": "edab05f4",
   "metadata": {},
   "outputs": [],
   "source": [
    "sns.set_style(\"whitegrid\")\n",
    "sns.set_context(\"notebook\")"
   ]
  },
  {
   "cell_type": "code",
   "execution_count": null,
   "id": "79132706",
   "metadata": {},
   "outputs": [
    {
     "data": {
      "image/png": "[encoded data removed]",
      "text/plain": [
       "<Figure size 432x288 with 1 Axes>"
      ]
     },
     "metadata": {},
     "output_type": "display_data"
    }
   ],
   "source": [
    "fig, ax = plt.subplots(1, 1)\n",
    "\n",
    "for label in certificates:\n",
    "    cert = certificates[label]\n",
    "    label = \"distance $\\geq$\" + str(label)\n",
    "    x, y = list(zip(*cert[\"cert_ratio\"].items()))\n",
    "    plt.step(x, y, where=\"post\", label=label)\n",
    "\n",
    "end = np.argmin(np.array(y)[:100] > 0) + 1\n",
    "plt.xlim((0, end))\n",
    "plt.ylim((0, 1.0))\n",
    "xticks = np.arange(end)\n",
    "plt.xticks(xticks)\n",
    "ax.xaxis.set_major_formatter(ticker.NullFormatter())\n",
    "ax.xaxis.set_minor_locator(ticker.FixedLocator(xticks + 0.5))\n",
    "ax.xaxis.set_minor_formatter(ticker.FixedFormatter(xticks))\n",
    "ax.set_xlabel(\"Perturbed Nodes\")\n",
    "ax.set_ylabel(\"Certified Ratio\")\n",
    "ax.legend()\n",
    "plt.show()"
   ]
  },
  {
   "cell_type": "code",
   "execution_count": null,
   "id": "3d17b1d7",
   "metadata": {},
   "outputs": [
    {
     "data": {
      "image/png": "[encoded data removed]",
      "text/plain": [
       "<Figure size 432x288 with 1 Axes>"
      ]
     },
     "metadata": {},
     "output_type": "display_data"
    }
   ],
   "source": [
    "fig, ax = plt.subplots(1, 1)\n",
    "\n",
    "for label in certificates:\n",
    "    cert = certificates[label]\n",
    "    label = \"distance $\\geq$\" + str(label)\n",
    "    x, y = list(zip(*cert[\"cert_acc\"].items()))\n",
    "    plt.step(x, y, where=\"post\", label=label)\n",
    "\n",
    "end = np.argmin(np.array(y)[:100] > 0) + 1\n",
    "plt.xlim((0, end))\n",
    "plt.ylim((0, 1.0))\n",
    "\n",
    "xticks = np.arange(end)\n",
    "plt.xticks(xticks)\n",
    "ax.xaxis.set_major_formatter(ticker.NullFormatter())\n",
    "ax.xaxis.set_minor_locator(ticker.FixedLocator(xticks+0.5))\n",
    "ax.xaxis.set_minor_formatter(ticker.FixedFormatter(xticks))\n",
    "ax.set_xlabel(\"Perturbed Nodes\")\n",
    "ax.set_ylabel(\"Certified Accuracy\")\n",
    "ax.legend()\n",
    "plt.show()"
   ]
  },
  {
   "cell_type": "code",
   "execution_count": null,
   "id": "98b09802",
   "metadata": {},
   "outputs": [
    {
     "data": {
      "image/png": "[encoded data removed]",
      "text/plain": [
       "<Figure size 432x288 with 1 Axes>"
      ]
     },
     "metadata": {},
     "output_type": "display_data"
    }
   ],
   "source": [
    "fig, ax = plt.subplots(1, 1)\n",
    "\n",
    "for label in certificates:\n",
    "    cert = certificates[label]\n",
    "    label = \"distance $\\geq$\" + str(label)\n",
    "    x, y = cert[\"cert_ratio_curve\"]\n",
    "    plt.plot(x, y, label=label)\n",
    "\n",
    "plt.xlim((0, 0.5))\n",
    "plt.ylim((0, 1.0))\n",
    "\n",
    "xticks = [str(int(k*100)) + \"%\" for k in np.arange(0, 0.5, 0.1)]\n",
    "plt.xticks(np.arange(0, 0.5, 0.1))\n",
    "ax.set_xticklabels(xticks)\n",
    "ax.set_xlabel(\"Perturbed Nodes\")\n",
    "ax.set_ylabel(\"Certified Ratio\")\n",
    "ax.legend()\n",
    "plt.show()"
   ]
  },
  {
   "cell_type": "code",
   "execution_count": null,
   "id": "6716210f",
   "metadata": {},
   "outputs": [
    {
     "data": {
      "image/png": "[encoded data removed]",
      "text/plain": [
       "<Figure size 432x288 with 1 Axes>"
      ]
     },
     "metadata": {},
     "output_type": "display_data"
    }
   ],
   "source": [
    "fig, ax = plt.subplots(1, 1)\n",
    "\n",
    "for label in certificates:\n",
    "    cert = certificates[label]\n",
    "    label = \"distance $\\geq$\" + str(label)\n",
    "    x, y = cert[\"cert_acc_curve\"]\n",
    "    plt.plot(x, y, label=label)\n",
    "\n",
    "plt.xlim((0, 0.5))\n",
    "plt.ylim((0, 1.0))\n",
    "\n",
    "xticks = [str(int(k*100)) + \"%\" for k in np.arange(0, 0.5, 0.1)]\n",
    "plt.xticks(np.arange(0, 0.5, 0.1))\n",
    "ax.set_xticklabels(xticks)\n",
    "ax.set_xlabel(\"Perturbed Nodes\")\n",
    "ax.set_ylabel(\"Certified Accuracy\")\n",
    "\n",
    "ax.legend()\n",
    "plt.show()"
   ]
  },
  {
   "cell_type": "markdown",
   "id": "57b7a3c7",
   "metadata": {},
   "source": [
    "# Sparsification"
   ]
  },
  {
   "cell_type": "code",
   "execution_count": null,
   "id": "71dc8f4d",
   "metadata": {},
   "outputs": [],
   "source": [
    "gdc = T.GDC(sparsification_kwargs={'eps': 0.022, 'method': 'threshold'})\n",
    "\n",
    "data_test = gdc(data_test)\n",
    "data_test.cpu()\n",
    "data = (np.ones(data_test.edge_index.shape[1]), data_test.edge_index)\n",
    "data_test.A = sp.csr_matrix(data, shape=(n, n))\n",
    "data_test.to(hparams[\"device\"])\n",
    "data_test.edge_attr = None"
   ]
  },
  {
   "cell_type": "code",
   "execution_count": null,
   "id": "f0e4081f",
   "metadata": {},
   "outputs": [
    {
     "data": {
      "application/vnd.jupyter.widget-view+json": {
       "model_id": "70f25475d7f9423e9af38028870889b9",
       "version_major": 2,
       "version_minor": 0
      },
      "text/plain": [
       "  0%|          | 0/1000 [00:00<?, ?it/s]"
      ]
     },
     "metadata": {},
     "output_type": "display_data"
    },
    {
     "data": {
      "application/vnd.jupyter.widget-view+json": {
       "model_id": "63ffb382d6f040d5bf5a1d643b93f20c",
       "version_major": 2,
       "version_minor": 0
      },
      "text/plain": [
       "  0%|          | 0/3000 [00:00<?, ?it/s]"
      ]
     },
     "metadata": {},
     "output_type": "display_data"
    }
   ],
   "source": [
    "pre_votes = smoothed_gnn(model, data_test, nc, hparams[\"n0\"])\n",
    "votes = smoothed_gnn(model, data_test, nc, hparams[\"n1\"])"
   ]
  },
  {
   "cell_type": "code",
   "execution_count": null,
   "id": "8e83973d",
   "metadata": {},
   "outputs": [],
   "source": [
    "certificates_sp = compute_certificates(model, None, None,\n",
    "                                           pre_votes, votes,\n",
    "                                           data_test, n, nc,\n",
    "                                           idx_test, hparams, 2)"
   ]
  },
  {
   "cell_type": "code",
   "execution_count": null,
   "id": "cd3d9a87",
   "metadata": {},
   "outputs": [],
   "source": [
    "round(certificates_sp[\"clean_acc\"], 2)"
   ]
  },
  {
   "cell_type": "code",
   "execution_count": null,
   "id": "0f13d9d5",
   "metadata": {},
   "outputs": [],
   "source": [
    "fig, ax = plt.subplots(1, 1)\n",
    "\n",
    "for sparse in [True, False]:\n",
    "    cert = certificates_sp if sparse else certificates[2]\n",
    "    label = \"Sparsification: \" + str(sparse)\n",
    "    x, y = list(zip(*cert[\"cert_ratio\"].items()))\n",
    "    plt.step(x, y, where=\"post\", label=label)\n",
    "\n",
    "end = np.argmin(np.array(y)[:100] > 0) + 1\n",
    "plt.xlim((0, end))\n",
    "plt.ylim((0, 1.0))\n",
    "xticks = np.arange(end)\n",
    "plt.xticks(xticks)\n",
    "ax.xaxis.set_major_formatter(ticker.NullFormatter())\n",
    "ax.xaxis.set_minor_locator(ticker.FixedLocator(xticks + 0.5))\n",
    "ax.xaxis.set_minor_formatter(ticker.FixedFormatter(xticks))\n",
    "ax.set_xlabel(\"Perturbed Nodes\")\n",
    "ax.set_ylabel(\"Certified Ratio\")\n",
    "ax.legend()\n",
    "plt.show()"
   ]
  },
  {
   "cell_type": "code",
   "execution_count": null,
   "id": "9a5959fa",
   "metadata": {},
   "outputs": [],
   "source": [
    "fig, ax = plt.subplots(1, 1)\n",
    "\n",
    "for sparse in [True, False]:\n",
    "    cert = certificates_sp if sparse else certificates[2]\n",
    "    label = \"Sparsification: \" + str(sparse)\n",
    "    x, y = cert[\"cert_ratio_curve\"]\n",
    "    plt.plot(x, y, label=label)\n",
    "\n",
    "plt.xlim((0, 0.5))\n",
    "plt.ylim((0, 1.0))\n",
    "\n",
    "xticks = [str(int(k*100)) + \"%\" for k in np.arange(0, 0.5, 0.1)]\n",
    "plt.xticks(np.arange(0, 0.5, 0.1))\n",
    "ax.set_xticklabels(xticks)\n",
    "ax.set_xlabel(\"Perturbed Nodes\")\n",
    "ax.set_ylabel(\"Certified Ratio\")\n",
    "ax.legend()\n",
    "plt.show()"
   ]
  },
  {
   "cell_type": "code",
   "execution_count": null,
   "id": "70baa85d",
   "metadata": {},
   "outputs": [],
   "source": []
  }
 ],
 "metadata": {
  "kernelspec": {
   "display_name": "Python 3 (ipykernel)",
   "language": "python",
   "name": "python3"
  },
  "language_info": {
   "codemirror_mode": {
    "name": "ipython",
    "version": 3
   },
   "file_extension": ".py",
   "mimetype": "text/x-python",
   "name": "python",
   "nbconvert_exporter": "python",
   "pygments_lexer": "ipython3"
  }
 },
 "nbformat": 4,
 "nbformat_minor": 5
}
